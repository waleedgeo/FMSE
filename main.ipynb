{
 "cells": [
  {
   "cell_type": "code",
   "execution_count": 1,
   "metadata": {},
   "outputs": [],
   "source": [
    "# loading modules\n",
    "import ee\n",
    "import geemap\n",
    "\n",
    "# initialize ee \n",
    "try:\n",
    "    ee.Initialize()\n",
    "except Exception as e:\n",
    "    ee.Authenticate()\n",
    "    ee.Initialize()\n",
    "\n"
   ]
  },
  {
   "cell_type": "code",
   "execution_count": 2,
   "metadata": {},
   "outputs": [],
   "source": [
    "# CASE 1: Pakistan Floods 2022\n",
    "# inputs\n",
    "# Define the Area of Interest (aoi)\n",
    "aoi = ee.Geometry.Polygon(\n",
    "    [[[67.98392410136336, 26.049909335428502],\n",
    "      [67.98392410136336, 25.42892423506662],\n",
    "      [68.59778518534773, 25.42892423506662],\n",
    "      [68.59778518534773, 26.049909335428502]]])\n",
    "\n",
    "\n",
    "startDate = ee.Date('2022-03-01')\n",
    "endDate = ee.Date('2022-08-20')\n",
    "predays = 60\n",
    "postdays = 20\n",
    "Map = geemap.Map()\n",
    "Map.addLayer(aoi, {}, 'Area of Interest')\n",
    "Map.centerObject(aoi, 10)"
   ]
  },
  {
   "cell_type": "code",
   "execution_count": 2,
   "metadata": {},
   "outputs": [],
   "source": [
    "# CASE 2: Mumbai\n",
    "# inputs\n",
    "# Define the Area of Interest (aoi)\n",
    "name = 'Mumbai'\n",
    "fsm_cities_box = ee.FeatureCollection(\"projects/temporaryproj/assets/fs_cities_boundarybox_combined\")\n",
    "aoi = fsm_cities_box.filter(ee.Filter.eq('name', f'{name}_aoi')).geometry()\n",
    "fsm_cities = ee.FeatureCollection(\"projects/temporaryproj/assets/fs_cities_boundary_combined\")\n",
    "aoi_city = fsm_cities.filter(ee.Filter.eq('name', name)).geometry()\n",
    "\n",
    "startDate = ee.Date('2017-03-01')\n",
    "endDate = ee.Date('2017-08-22')\n",
    "predays = 30\n",
    "postdays = 10\n",
    "Map = geemap.Map()\n",
    "Map.addLayer(aoi, {}, 'Area of Interest')\n",
    "Map.centerObject(aoi)"
   ]
  },
  {
   "cell_type": "code",
   "execution_count": 3,
   "metadata": {},
   "outputs": [],
   "source": [
    "def get_s1_col(date, days):\n",
    "  filters = [\n",
    "    ee.Filter.listContains(\"transmitterReceiverPolarisation\", \"VV\"),\n",
    "    ee.Filter.listContains(\"transmitterReceiverPolarisation\", \"VH\"),\n",
    "    ee.Filter.Or(ee.Filter.equals(\"instrumentMode\", \"IW\"),ee.Filter.equals(\"instrumentMode\", \"SM\")),\n",
    "    ee.Filter.bounds(aoi),\n",
    "    ee.Filter.eq('resolution_meters', 10),\n",
    "    ee.Filter.date(date, date.advance(days+1, 'day'))\n",
    "  ]\n",
    "  \n",
    "  s1_col = ee.ImageCollection('COPERNICUS/S1_GRD').filter(filters)\n",
    "\n",
    "  return s1_col\n",
    "\n",
    "def s1_composite(get_s1_col):\n",
    "  composite = ee.Image.cat([\n",
    "  s1_col.select('VH').mean(),\n",
    "  s1_col.select('VV').mean(),\n",
    "  s1_col.select('VH').mean()\n",
    "  ])\n",
    "    \n",
    "  return composite.clip(aoi)\n",
    "\n",
    "s1_pre = get_s1_col(startDate, predays)\n",
    "s1_post = get_s1_col(endDate, postdays)\n",
    "\n",
    "# Function to calculate z-score\n",
    "def calc_zscore(s1_pre, s1_post, direction):\n",
    "    base_mean = s1_pre.filter(ee.Filter.equals('orbitProperties_pass', direction)).mean()\n",
    "\n",
    "    anom = s1_post.filter(ee.Filter.equals('orbitProperties_pass', direction)) \\\n",
    "        .mean().subtract(base_mean).set({'system:time_start': s1_post.get('system:time_start')})\n",
    "\n",
    "    base_sd = s1_pre.filter(ee.Filter.equals('orbitProperties_pass', direction)) \\\n",
    "        .reduce(ee.Reducer.stdDev()).rename(['VV', 'VH', 'angle'])\n",
    "\n",
    "    return anom.divide(base_sd).set({'system:time_start': anom.get('system:time_start')})\n",
    "\n",
    "\n",
    "# Define z-score calculation for DESCENDING and ASCENDING orbits\n",
    "zscore_des = calc_zscore(s1_pre, s1_post,'DESCENDING')\n",
    "zscore_asc = calc_zscore(s1_pre, s1_post,'ASCENDING')\n",
    "\n",
    "# Calculate mean of z-scores for DESCENDING and ASCENDING orbits\n",
    "zscore = ee.ImageCollection.fromImages([zscore_des, zscore_asc]).mean().clip(aoi)\n",
    "\n",
    "# Flood mask function\n",
    "def mapFloods(z, zvv_thd=None, zvh_thd=None, pow_thd=75, elev_thd=800, slp_thd=15):\n",
    "    if zvv_thd is None:\n",
    "        zvv_thd = -3\n",
    "    if zvh_thd is None:\n",
    "        zvh_thd = -3\n",
    "\n",
    "    # JRC water mask\n",
    "    jrc = ee.ImageCollection(\"JRC/GSW1_1/MonthlyHistory\").filterDate('2016-01-01', '2022-01-01')\n",
    "    jrcvalid = jrc.map(lambda x: x.gt(0)).sum()\n",
    "    jrcwat = jrc.map(lambda x: x.eq(2)).sum().divide(jrcvalid).multiply(100)\n",
    "    jrcmask = jrcvalid.gt(0)\n",
    "    ow = jrcwat.gte(ee.Image(pow_thd))\n",
    "\n",
    "    # Add elevation and slope masking using fabdem\n",
    "    elevation = ee.ImageCollection(\"projects/sat-io/open-datasets/FABDEM\").mosaic() \\\n",
    "        .setDefaultProjection('EPSG:3857', None, 30)\n",
    "    slope = ee.Terrain.slope(elevation)\n",
    "\n",
    "    # Classify floods\n",
    "    vvflag = z.select('VV').lte(ee.Image(zvv_thd))\n",
    "    vhflag = z.select('VH').lte(ee.Image(zvh_thd))\n",
    "\n",
    "    flood_class = ee.Image(0).add(vvflag) \\\n",
    "        .add(vhflag.multiply(2)) \\\n",
    "        .where(ow.eq(1), 4) \\\n",
    "        .rename('flood_class') \\\n",
    "        .where(elevation.gt(elev_thd).multiply(ow.neq(1)), 0) \\\n",
    "        .where(slope.gt(slp_thd).multiply(ow.neq(1)), 0)\n",
    "    # add class 1,2,3 from flood_class and create a new layer with single band\n",
    "    flood_layer = flood_class.where(flood_class.eq(1), 1) \\\n",
    "        .where(flood_class.eq(2), 1) \\\n",
    "        .where(flood_class.eq(3), 1) \\\n",
    "        .where(flood_class.eq(4), 2) \\\n",
    "        .where(jrcmask.eq(0), 2) \\\n",
    "        .where(flood_class.eq(0), 2) \\\n",
    "        .selfMask() \\\n",
    "        .rename('label')\n",
    "    return flood_class.clip(aoi), flood_layer.clip(aoi)\n",
    "\n",
    "# Mask z-score threshold\n",
    "flood_class, flood_layer = mapFloods(zscore)"
   ]
  },
  {
   "cell_type": "code",
   "execution_count": 4,
   "metadata": {},
   "outputs": [
    {
     "data": {
      "application/vnd.jupyter.widget-view+json": {
       "model_id": "14dceba9744e47c281ab4b3b24c7822b",
       "version_major": 2,
       "version_minor": 0
      },
      "text/plain": [
       "Map(center=[19.073663071484283, 72.87546088454904], controls=(WidgetControl(options=['position', 'transparent_…"
      ]
     },
     "metadata": {},
     "output_type": "display_data"
    }
   ],
   "source": [
    "Map.addLayer(zscore.select('VV'), {'min': -7, 'max': 7, 'palette': ['red', 'white', 'blue']}, 'ZScore', False)\n",
    "Map.addLayer(flood_class, {'min': 0, 'max': 4, 'palette': ['#E3E3E3','#FFB100', '#FFB100', '#3E9DFF','#031DC9']}, 'flood classes', False)\n",
    "Map.addLayer(flood_layer, {'min': 1, 'max': 2, 'palette': ['blue', 'white']}, 'flood layer')\n",
    "\n",
    "Map"
   ]
  },
  {
   "cell_type": "code",
   "execution_count": 11,
   "metadata": {},
   "outputs": [],
   "source": [
    "geemap.ee_export_image_to_drive(flood_layer, description='flood_layer', folder='s1_post', region=aoi, scale=10)"
   ]
  },
  {
   "cell_type": "code",
   "execution_count": 4,
   "metadata": {},
   "outputs": [],
   "source": [
    "\n",
    "# Some parts of the original code are missing, but the following sections are provided for completeness.\n",
    "\n",
    "# Create the 'sample' feature collection\n",
    "bands = ['VV', 'VH']\n",
    "image = s1_post.select(bands).mean()\n",
    "field = flood_layer\n",
    "\n",
    "sample = field.stratifiedSample(\n",
    "    numPoints=1000,\n",
    "    classBand='label',\n",
    "    region=aoi_city,\n",
    "    scale=10,\n",
    "    seed=5,\n",
    "    tileScale=1.5,\n",
    "    geometries=True\n",
    ")\n",
    "\n"
   ]
  },
  {
   "cell_type": "code",
   "execution_count": 5,
   "metadata": {},
   "outputs": [
    {
     "data": {
      "application/vnd.jupyter.widget-view+json": {
       "model_id": "05ef38e6d2ae4a50a9b7b6ab311e11b2",
       "version_major": 2,
       "version_minor": 0
      },
      "text/plain": [
       "Map(center=[19.073663071484283, 72.87546088454904], controls=(WidgetControl(options=['position', 'transparent_…"
      ]
     },
     "metadata": {},
     "output_type": "display_data"
    }
   ],
   "source": [
    "def updateFeature(feature):\n",
    "    value = feature.get('label')\n",
    "    updated_value = ee.Algorithms.If(value==ee.Number(2), ee.Number(0), value)\n",
    "    feature = feature.set('label', updated_value)\n",
    "    return feature\n",
    "sample_new = sample.map(updateFeature)\n",
    "label = ee.FeatureCollection(sample_new)\n",
    "Map.addLayer(label, {}, 'sample')\n",
    "Map"
   ]
  },
  {
   "cell_type": "code",
   "execution_count": null,
   "metadata": {},
   "outputs": [],
   "source": [
    "# change the values in labels so that values if 2 are changed with 0\n",
    "Map.addLayer(sample1, {}, 'sample')\n",
    "Map.addLayer(aoi_city, {'color':'red'}, 'aoi_city', False)\n",
    "Map\n",
    "# Continue with training and classification as shown in the original code\n",
    "# ... (code for training and classification continues here)\n"
   ]
  },
  {
   "cell_type": "code",
   "execution_count": 38,
   "metadata": {},
   "outputs": [
    {
     "name": "stdout",
     "output_type": "stream",
     "text": [
      "Generating URL ...\n",
      "Downloading data from https://earthengine.googleapis.com/v1alpha/projects/earthengine-legacy/tables/b70d0b82e1e57d72735e448c107e2be3-2953864f5ed2b4051b6c7ac0aafb5ead:getFeatures\n",
      "Please wait ...\n",
      "Data downloaded to e:\\current_proj\\FMS\\codes\\data\\samples_test2.shp\n"
     ]
    }
   ],
   "source": [
    "# export samples as shapefile to gdrive\n",
    "geemap.ee_to_shp(sample_new, filename='../data/samples_test2.shp')"
   ]
  }
 ],
 "metadata": {
  "kernelspec": {
   "display_name": "geo",
   "language": "python",
   "name": "python3"
  },
  "language_info": {
   "codemirror_mode": {
    "name": "ipython",
    "version": 3
   },
   "file_extension": ".py",
   "mimetype": "text/x-python",
   "name": "python",
   "nbconvert_exporter": "python",
   "pygments_lexer": "ipython3",
   "version": "3.10.12"
  },
  "orig_nbformat": 4
 },
 "nbformat": 4,
 "nbformat_minor": 2
}
