{
 "cells": [
  {
   "cell_type": "code",
   "execution_count": 1,
   "metadata": {},
   "outputs": [],
   "source": [
    "import rasterio\n",
    "import numpy as np\n",
    "import os\n"
   ]
  },
  {
   "cell_type": "code",
   "execution_count": 2,
   "metadata": {},
   "outputs": [
    {
     "name": "stdout",
     "output_type": "stream",
     "text": [
      "e:\\FMSE_local\\data\\rasters\\pre_post_zscore\n",
      "Successfully saved mean image to e:\\FMSE_local\\data\\rasters\\pre_post_zscore/mean\\Ernakulam_post_image_mean.tif\n",
      "Successfully saved mean image to e:\\FMSE_local\\data\\rasters\\pre_post_zscore/mean\\Ernakulam_pre_image_mean.tif\n",
      "Successfully saved mean image to e:\\FMSE_local\\data\\rasters\\pre_post_zscore/mean\\Ernakulam_z_score_image_mean.tif\n",
      "Successfully saved mean image to e:\\FMSE_local\\data\\rasters\\pre_post_zscore/mean\\Nhamatanda_post_image_mean.tif\n",
      "Successfully saved mean image to e:\\FMSE_local\\data\\rasters\\pre_post_zscore/mean\\Nhamatanda_pre_image_mean.tif\n",
      "Successfully saved mean image to e:\\FMSE_local\\data\\rasters\\pre_post_zscore/mean\\Nhamatanda_z_score_image_mean.tif\n",
      "Successfully saved mean image to e:\\FMSE_local\\data\\rasters\\pre_post_zscore/mean\\Shikarpur_post_image_mean.tif\n",
      "Successfully saved mean image to e:\\FMSE_local\\data\\rasters\\pre_post_zscore/mean\\Shikarpur_pre_image_mean.tif\n",
      "Successfully saved mean image to e:\\FMSE_local\\data\\rasters\\pre_post_zscore/mean\\Shikarpur_z_score_image_mean.tif\n",
      "Successfully saved mean image to e:\\FMSE_local\\data\\rasters\\pre_post_zscore/mean\\Sylhet_post_image_mean.tif\n",
      "Successfully saved mean image to e:\\FMSE_local\\data\\rasters\\pre_post_zscore/mean\\Sylhet_pre_image_mean.tif\n",
      "Successfully saved mean image to e:\\FMSE_local\\data\\rasters\\pre_post_zscore/mean\\Sylhet_z_score_image_mean.tif\n"
     ]
    }
   ],
   "source": [
    "\n",
    "def calculate_mean_vv_vh(input_path, output_path):\n",
    "    \"\"\"\n",
    "    Calculate the mean of VV and VH bands and save as a single-band image.\n",
    "    \n",
    "    Parameters:\n",
    "    input_path (str): Path to the input raster file.\n",
    "    output_path (str): Path to save the output mean raster file.\n",
    "    \"\"\"\n",
    "    with rasterio.open(input_path) as src:\n",
    "        # Ensure bands are in correct order (VV, VH, angle)\n",
    "        if src.count < 3:\n",
    "            print(f'Skipping {input_path}: Less than 3 bands found.')\n",
    "            return\n",
    "        \n",
    "        # Read VV and VH bands\n",
    "        vv_band = src.read(1)\n",
    "        vh_band = src.read(2)\n",
    "        \n",
    "        # Calculate the mean of VV and VH bands\n",
    "        mean_band = (vv_band + vh_band) / 2\n",
    "        \n",
    "        #convert data to float16\n",
    "        mean_band = mean_band.astype('float32')\n",
    "        \n",
    "        # Update metadata\n",
    "        out_meta = src.meta.copy()\n",
    "        out_meta.update({\n",
    "            \"count\": 1,  # single band\n",
    "            \"dtype\": 'float32'\n",
    "        })\n",
    "        \n",
    "        # Save the mean band to a new file\n",
    "        with rasterio.open(output_path, 'w', **out_meta) as dst:\n",
    "            dst.write(mean_band.astype('float32'), 1)\n",
    "            \n",
    "        print(f'Successfully saved mean image to {output_path}')\n",
    "\n",
    "# Paths to the input directory and output directory\n",
    "cwd = os.getcwd()\n",
    "print(cwd)\n",
    "input_dir = cwd\n",
    "output_dir = cwd + '/mean'\n",
    "\n",
    "# Ensure the output directory exists\n",
    "os.makedirs(output_dir, exist_ok=True)\n",
    "\n",
    "# Process each raster file in the input directory\n",
    "for input_file in os.listdir(input_dir):\n",
    "    if input_file.endswith('.tif') or input_file.endswith('.tiff'):\n",
    "        input_path = os.path.join(input_dir, input_file)\n",
    "        output_file = os.path.join(output_dir, f'{os.path.splitext(input_file)[0]}_mean.tif')\n",
    "        calculate_mean_vv_vh(input_path, output_file)\n"
   ]
  }
 ],
 "metadata": {
  "kernelspec": {
   "display_name": "geo",
   "language": "python",
   "name": "python3"
  },
  "language_info": {
   "codemirror_mode": {
    "name": "ipython",
    "version": 3
   },
   "file_extension": ".py",
   "mimetype": "text/x-python",
   "name": "python",
   "nbconvert_exporter": "python",
   "pygments_lexer": "ipython3",
   "version": "3.11.4"
  }
 },
 "nbformat": 4,
 "nbformat_minor": 2
}
