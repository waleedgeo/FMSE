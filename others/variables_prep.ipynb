{
 "cells": [
  {
   "cell_type": "markdown",
   "metadata": {},
   "source": [
    "Download data for Susceptibility Mapping\n",
    "\n"
   ]
  },
  {
   "cell_type": "code",
   "execution_count": 1,
   "metadata": {},
   "outputs": [],
   "source": [
    "import ee\n",
    "import geemap\n",
    "\n",
    "try:\n",
    "    ee.Initialize()\n",
    "except Exception as e:\n",
    "    ee.Authenticate()\n",
    "    ee.Initialize()"
   ]
  },
  {
   "cell_type": "code",
   "execution_count": 2,
   "metadata": {},
   "outputs": [],
   "source": [
    "# inputs\n",
    "startDate = '2022-01-01'\n",
    "endDate = '2022-12-31'\n",
    "aoi = ee.Geometry.Polygon(\n",
    "        [[[100.21258493926561, 14.101686931777209],\n",
    "          [100.21258493926561, 13.533597643942972],\n",
    "          [100.92944284942186, 13.533597643942972],\n",
    "          [100.92944284942186, 14.101686931777209]]])\n"
   ]
  },
  {
   "cell_type": "markdown",
   "metadata": {},
   "source": [
    "Datasets:\n",
    "\n",
    "1. FABDEM 30m: https://gee-community-catalog.org/projects/fabdem/\n",
    "2. Soil grid 250m: https://gee-community-catalog.org/projects/isric/?h=soil\n",
    "3. Landsat-9 2022 30m: https://developers.google.com/earth-engine/datasets/catalog/LANDSAT_LC09_C02_T1_L2\n",
    "4. LULC 2022 10m: https://gee-community-catalog.org/projects/S2TSLULC/\n",
    "5. Roads (south-east-asia) Vector: https://gee-community-catalog.org/projects/grip/?h=road\n",
    "6. Shoreline Vector: https://gee-community-catalog.org/projects/shoreline/?h=cost\n",
    "7. Rivers Vector: https://gee-community-catalog.org/projects/hydroatlas/?h=hydr\n",
    "8. Rainfall Daily 5566m: https://developers.google.com/earth-engine/datasets/catalog/UCSB-CHG_CHIRPS_DAILY\n"
   ]
  },
  {
   "cell_type": "code",
   "execution_count": 3,
   "metadata": {},
   "outputs": [],
   "source": [
    "# Applies scaling factors.\n",
    "def applyScaleFactors(image):\n",
    "    opticalBands = image.select('SR_B.').multiply(0.0000275).add(-0.2)\n",
    "    thermalBands = image.select('ST_B.*').multiply(0.00341802).add(149.0)\n",
    "    \n",
    "    return image.addBands(opticalBands, None, True)\\\n",
    "              .addBands(thermalBands, None, True)\n",
    "\n",
    "def remapper(image):\n",
    "        remapped = image.remap([1,2,4,5,7,8,9,10,11],[1,2,3,4,5,6,7,8,9])\n",
    "        return remapped\n",
    "\n",
    "# datasets\n",
    "dem = ee.ImageCollection(\"projects/sat-io/open-datasets/FABDEM\")\\\n",
    "        .filterBounds(aoi)\\\n",
    "        .mosaic()\\\n",
    "        .clip(aoi)\n",
    "\n",
    "l9 = ee.ImageCollection('LANDSAT/LC09/C02/T1_L2')\\\n",
    "        .filterBounds(aoi)\\\n",
    "        .filterDate(startDate, endDate)\\\n",
    "        .map(applyScaleFactors)\\\n",
    "        .filter(ee.Filter.lt('CLOUD_COVER', 10))\\\n",
    "        .median()\\\n",
    "        .clip(aoi)\n",
    "\n",
    "ndvi = l9.normalizedDifference(['SR_B5', 'SR_B4'])\n",
    "ndwi = l9.normalizedDifference(['SR_B3', 'SR_B5'])\n",
    "ndbi = l9.normalizedDifference(['SR_B6', 'SR_B5'])\n",
    "ndsi = l9.normalizedDifference(['SR_B2', 'SR_B5'])\n",
    "\n",
    "lulc = ee.ImageCollection(\"projects/sat-io/open-datasets/landcover/ESRI_Global-LULC_10m_TS\")\\\n",
    "        .filterBounds(aoi)\\\n",
    "        .filterDate(startDate, endDate)\\\n",
    "        .map(remapper)\\\n",
    "        .mosaic()\\\n",
    "        .clip(aoi)\n",
    "\n",
    "soil = ee.Image(\"projects/sat-io/open-datasets/FAO/HWSD_V2_SMU\")\n",
    "\n",
    "roads = ee.FeatureCollection(\"projects/sat-io/open-datasets/GRIP4/South-East-Asia\")\\\n",
    "        .filterBounds(aoi)\n",
    "\n",
    "shoreline = ee.FeatureCollection('projects/sat-io/open-datasets/shoreline/mainlands')\\\n",
    "        .filterBounds(aoi)\n",
    "\n",
    "\n",
    "rivers = ee.FeatureCollection(\"projects/sat-io/open-datasets/HydroAtlas/RiverAtlas_v10\")\\\n",
    "        .filterBounds(aoi)\n",
    "\n",
    "\n",
    "rainfall_ic = ee.ImageCollection('UCSB-CHG/CHIRPS/DAILY')\\\n",
    "        .filterBounds(aoi)\\\n",
    "        .filterDate(startDate, endDate)\n"
   ]
  },
  {
   "cell_type": "code",
   "execution_count": 17,
   "metadata": {},
   "outputs": [
    {
     "name": "stdout",
     "output_type": "stream",
     "text": [
      "{'type': 'Projection', 'crs': 'EPSG:4326', 'transform': [1, 0, 0, 0, 1, 0]}\n",
      "{'type': 'Projection', 'crs': 'EPSG:4326', 'transform': [1, 0, 0, 0, 1, 0]}\n",
      "{'type': 'Projection', 'crs': 'EPSG:4326', 'transform': [1, 0, 0, 0, 1, 0]}\n",
      "{'type': 'Projection', 'crs': 'EPSG:4326', 'transform': [0.008084837557075694, 0, -180.00082337073326, 0, -0.008084837557075694, 90.00041168536663]}\n",
      "{'type': 'Projection', 'crs': 'EPSG:4326', 'transform': [1, 0, 0, 0, 1, 0]}\n"
     ]
    }
   ],
   "source": [
    "# checking the projection of the data\n",
    "\n",
    "dem_proj = dem.projection()\n",
    "l9_proj = l9.projection()\n",
    "lulc_proj = lulc.projection()\n",
    "soil_proj = soil.projection()\n",
    "roads_proj = roads.first().geometry().projection()\n",
    "\n",
    "print(dem_proj.getInfo())\n",
    "print(l9_proj.getInfo())\n",
    "print(lulc_proj.getInfo())\n",
    "print(soil_proj.getInfo())\n",
    "print(roads_proj.getInfo())"
   ]
  },
  {
   "cell_type": "code",
   "execution_count": 20,
   "metadata": {},
   "outputs": [
    {
     "data": {
      "text/plain": [
       "87849"
      ]
     },
     "execution_count": 20,
     "metadata": {},
     "output_type": "execute_result"
    }
   ],
   "source": [
    "roads.size().getInfo()"
   ]
  },
  {
   "cell_type": "code",
   "execution_count": 21,
   "metadata": {},
   "outputs": [
    {
     "data": {
      "application/vnd.jupyter.widget-view+json": {
       "model_id": "7d478659a84242fb93dae0adcb4ca095",
       "version_major": 2,
       "version_minor": 0
      },
      "text/plain": [
       "Map(center=[13.817786844729987, 100.57101389434429], controls=(WidgetControl(options=['position', 'transparent…"
      ]
     },
     "metadata": {},
     "output_type": "display_data"
    }
   ],
   "source": [
    "Map = geemap.Map()\n",
    "\n",
    "Map.addLayer(dem, {}, 'DEM')\n",
    "Map.addLayer(ndbi, {'min':0, 'max':1, 'palette':['blue', 'yellow', 'red']}, 'NDBI')\n",
    "Map.addLayer(ndvi, {'min':0, 'max':1, 'palette':['blue', 'yellow', 'green']}, 'NDVI')\n",
    "Map.addLayer(roads, {}, 'Roads')\n",
    "Map.addLayer(shoreline, {}, 'Shoreline')\n",
    "Map.addLayer(rivers, {}, 'Rivers')\n",
    "Map.centerObject(aoi, 12)\n",
    "Map"
   ]
  },
  {
   "cell_type": "code",
   "execution_count": 22,
   "metadata": {},
   "outputs": [
    {
     "name": "stdout",
     "output_type": "stream",
     "text": [
      "{'type': 'Projection', 'crs': 'EPSG:4326', 'transform': [1, 0, 0, 0, 1, 0]}\n"
     ]
    }
   ],
   "source": [
    "# Description: This script generates the predictor variables for the model.\n",
    "\n",
    "# Combine rivers and shoreline into a single FeatureCollection\n",
    "rivers_and_shoreline = rivers.merge(shoreline)\n",
    "\n",
    "# Generate distance rasters\n",
    "def distance_to_feature(feature_collection, scale):\n",
    "    # Convert the FeatureCollection to a FeatureCollection\n",
    "    feature_collection = ee.FeatureCollection(feature_collection)\n",
    "\n",
    "    # Use the distance function to generate a distance raster\n",
    "    distance_raster = feature_collection.distance()\n",
    "\n",
    "    # Reproject the raster to match the specified scale\n",
    "    print(distance_raster.projection().getInfo())\n",
    "    distance_raster = distance_raster.reproject(crs='EPSG:4326', scale=scale)\n",
    "\n",
    "    # Clip the raster to the AOI\n",
    "    distance_raster = distance_raster.clip(aoi)\n",
    "\n",
    "    return distance_raster\n",
    "\n",
    "# Generate distance rasters for roads, and rivers+shoreline\n",
    "roads_distance = distance_to_feature(roads, 30)\n",
    "#rivers_and_shoreline_distance = distance_to_feature(rivers_and_shoreline, 30)\n",
    "\n"
   ]
  },
  {
   "cell_type": "code",
   "execution_count": 24,
   "metadata": {},
   "outputs": [
    {
     "data": {
      "application/vnd.jupyter.widget-view+json": {
       "model_id": "7d478659a84242fb93dae0adcb4ca095",
       "version_major": 2,
       "version_minor": 0
      },
      "text/plain": [
       "Map(bottom=60767.0, center=[13.78608981978479, 100.58933074538237], controls=(WidgetControl(options=['position…"
      ]
     },
     "metadata": {},
     "output_type": "display_data"
    }
   ],
   "source": [
    "Map.addLayer(roads_distance, {'min':0, 'max':10000}, 'Roads distance (m)')\n",
    "Map"
   ]
  },
  {
   "cell_type": "code",
   "execution_count": 27,
   "metadata": {},
   "outputs": [
    {
     "data": {
      "application/vnd.jupyter.widget-view+json": {
       "model_id": "7d478659a84242fb93dae0adcb4ca095",
       "version_major": 2,
       "version_minor": 0
      },
      "text/plain": [
       "Map(bottom=483972.453125, center=[13.808742584307161, 100.59768676757814], controls=(WidgetControl(options=['p…"
      ]
     },
     "metadata": {},
     "output_type": "display_data"
    }
   ],
   "source": [
    "\n",
    "# Calculate Terrain variables\n",
    "slope = ee.Terrain.slope(dem)\n",
    "aspect = ee.Terrain.aspect(dem)\n",
    "#curvature = ee.Terrain.zeroCrossing(dem)\n",
    "\n",
    "# Calculate Topographic Wetness Index\n",
    "#slope_rad = slope.multiply(3.141592653589793).divide(180)\n",
    "#twi = ee.Terrain.wetness(dem, slope_rad)\n",
    "\n",
    "Map.addLayer(slope, {'min':0, 'max':60}, 'slope')\n",
    "Map.addLayer(aspect, {'min':0, 'max':360}, 'aspect')\n",
    "#Map.addLayer(curvature, {'min':-1, 'max':1}, 'curvature')\n",
    "#Map.addLayer(twi, {'min':0, 'max':20}, 'twi')\n",
    "Map"
   ]
  },
  {
   "cell_type": "code",
   "execution_count": null,
   "metadata": {},
   "outputs": [],
   "source": [
    "\n",
    "# Export to Google Drive\n",
    "def export_to_drive(image, description, folder, scale):\n",
    "    task = ee.batch.Export.image.toDrive(\n",
    "        image=image,\n",
    "        description=description,\n",
    "        folder=folder,\n",
    "        scale=scale,\n",
    "        region=aoi.geometry().bounds().getInfo()['coordinates'],\n",
    "        fileFormat='GeoTIFF'\n",
    "    )\n",
    "    task.start()\n",
    "\n",
    "# Export all rasters to Google Drive\n",
    "export_to_drive(roads_distance, 'roads_distance', 'your-folder-name', 30)\n",
    "export_to_drive(rivers_and_shoreline_distance, 'rivers_and_shoreline_distance', 'your-folder-name', 30)\n",
    "export_to_drive(slope, 'slope', 'your-folder-name', 30)\n",
    "export_to_drive(aspect, 'aspect', 'your-folder-name', 30)\n",
    "export_to_drive(curvature, 'curvature', 'your-folder-name', 30)\n",
    "export_to_drive(twi, 'twi', 'your-folder-name', 30)\n"
   ]
  }
 ],
 "metadata": {
  "kernelspec": {
   "display_name": "geo",
   "language": "python",
   "name": "python3"
  },
  "language_info": {
   "codemirror_mode": {
    "name": "ipython",
    "version": 3
   },
   "file_extension": ".py",
   "mimetype": "text/x-python",
   "name": "python",
   "nbconvert_exporter": "python",
   "pygments_lexer": "ipython3",
   "version": "3.10.11"
  },
  "orig_nbformat": 4
 },
 "nbformat": 4,
 "nbformat_minor": 2
}
