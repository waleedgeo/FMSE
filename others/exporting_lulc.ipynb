{
 "cells": [
  {
   "cell_type": "code",
   "execution_count": 1,
   "metadata": {},
   "outputs": [],
   "source": [
    "import ee\n",
    "# Initialize the Earth Engine module\n",
    "ee.Initialize()\n"
   ]
  },
  {
   "cell_type": "code",
   "execution_count": 2,
   "metadata": {},
   "outputs": [
    {
     "name": "stdout",
     "output_type": "stream",
     "text": [
      "Area of Shikarpur in sq km: 2576.278345966003\n",
      "Export task started for Shikarpur.\n",
      "Area of Sylhet in sq km: 3440.8448022050648\n",
      "Export task started for Sylhet.\n",
      "Area of Ernakulam in sq km: 2388.041910361694\n",
      "Export task started for Ernakulam.\n",
      "Area of Nhamatanda in sq km: 4026.219014010595\n",
      "Export task started for Nhamatanda.\n"
     ]
    }
   ],
   "source": [
    "\n",
    "def remapper(image):\n",
    "    return image.remap([1, 2, 4, 5, 7, 8, 9, 10, 11], [1, 2, 3, 4, 5, 6, 7, 8, 9])\n",
    "\n",
    "def export_lulc(city):\n",
    "    # Filter the administrative boundary for the given city\n",
    "    aoi = ee.FeatureCollection('projects/earthengine-legacy/assets/projects/sat-io/open-datasets/geoboundaries/CGAZ_ADM2') \\\n",
    "        .filter(ee.Filter.eq('shapeName', city)).geometry()\n",
    "    # print Area in sq km of aoi\n",
    "    print(f'Area of {city} in sq km: {aoi.area().divide(1e6).getInfo()}')\n",
    "    # Load and process the land cover data\n",
    "    landcover = ee.ImageCollection('projects/sat-io/open-datasets/landcover/ESRI_Global-LULC_10m_TS') \\\n",
    "        .filterDate('2022-01-01', '2022-12-31') \\\n",
    "        .map(remapper) \\\n",
    "        .mosaic() \\\n",
    "        .clip(aoi) \\\n",
    "        .rename('b1')\n",
    "\n",
    "    # Define the export task\n",
    "    task = ee.batch.Export.image.toDrive(\n",
    "        image=landcover,\n",
    "        description=f'{city}_LULC',\n",
    "        folder='FMSE_LULC',\n",
    "        fileNamePrefix=f'{city}_LULC',\n",
    "        region=aoi,\n",
    "        scale=10,\n",
    "        maxPixels=1e13\n",
    "    )\n",
    "\n",
    "    # Start the export task\n",
    "    task.start()\n",
    "    print(f'Export task started for {city}.')\n",
    "\n",
    "# List of cities\n",
    "cities = ['Shikarpur', 'Sylhet', 'Ernakulam', 'Nhamatanda']\n",
    "\n",
    "# Iterate through the cities and export LULC data for each\n",
    "for city in cities:\n",
    "    export_lulc(city)\n"
   ]
  }
 ],
 "metadata": {
  "kernelspec": {
   "display_name": "gee",
   "language": "python",
   "name": "python3"
  },
  "language_info": {
   "codemirror_mode": {
    "name": "ipython",
    "version": 3
   },
   "file_extension": ".py",
   "mimetype": "text/x-python",
   "name": "python",
   "nbconvert_exporter": "python",
   "pygments_lexer": "ipython3",
   "version": "3.10.13"
  }
 },
 "nbformat": 4,
 "nbformat_minor": 2
}
