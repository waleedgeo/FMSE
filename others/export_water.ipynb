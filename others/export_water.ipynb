{
 "cells": [
  {
   "cell_type": "code",
   "execution_count": 1,
   "metadata": {},
   "outputs": [
    {
     "data": {
      "text/html": [
       "<p>To authorize access needed by Earth Engine, open the following\n",
       "        URL in a web browser and follow the instructions:</p>\n",
       "        <p><a href=https://code.earthengine.google.com/client-auth?scopes=https%3A//www.googleapis.com/auth/earthengine%20https%3A//www.googleapis.com/auth/devstorage.full_control&request_id=DeK-vdFUQ4fNNu_ZMglyiPk04OvzXZhyNnixylCnEw4&tc=I4WVMkAM76h_z-ASPDqHDm8mK1DDZ5g_dT9jsiCRjWE&cc=yPOo-jEWV2T_8hRaaQ0tDxLoxiDQrEX6c9hraN3ivDg>https://code.earthengine.google.com/client-auth?scopes=https%3A//www.googleapis.com/auth/earthengine%20https%3A//www.googleapis.com/auth/devstorage.full_control&request_id=DeK-vdFUQ4fNNu_ZMglyiPk04OvzXZhyNnixylCnEw4&tc=I4WVMkAM76h_z-ASPDqHDm8mK1DDZ5g_dT9jsiCRjWE&cc=yPOo-jEWV2T_8hRaaQ0tDxLoxiDQrEX6c9hraN3ivDg</a></p>\n",
       "        <p>The authorization workflow will generate a code, which you should paste in the box below.</p>\n",
       "        "
      ],
      "text/plain": [
       "<IPython.core.display.HTML object>"
      ]
     },
     "metadata": {},
     "output_type": "display_data"
    },
    {
     "name": "stdout",
     "output_type": "stream",
     "text": [
      "\n",
      "Successfully saved authorization token.\n"
     ]
    }
   ],
   "source": [
    "import ee\n",
    "import geemap\n",
    "\n",
    "try:\n",
    "    ee.Initialize()\n",
    "except Exception as e:\n",
    "    ee.Authenticate()\n",
    "    ee.Initialize()"
   ]
  },
  {
   "cell_type": "code",
   "execution_count": 5,
   "metadata": {},
   "outputs": [
    {
     "data": {
      "text/html": [
       "\n",
       "            <style>\n",
       "                .geemap-dark {\n",
       "                    --jp-widgets-color: white;\n",
       "                    --jp-widgets-label-color: white;\n",
       "                    --jp-ui-font-color1: white;\n",
       "                    --jp-layout-color2: #454545;\n",
       "                    background-color: #383838;\n",
       "                }\n",
       "                    \n",
       "                .geemap-dark .jupyter-button {\n",
       "                    --jp-layout-color3: #383838;\n",
       "                }\n",
       "                \n",
       "                .geemap-colab {\n",
       "                    background-color: var(--colab-primary-surface-color, white);\n",
       "                }\n",
       "                    \n",
       "                .geemap-colab .jupyter-button {\n",
       "                    --jp-layout-color3: var(--colab-primary-surface-color, white);\n",
       "                }\n",
       "            </style>\n",
       "            "
      ],
      "text/plain": [
       "<IPython.core.display.HTML object>"
      ]
     },
     "metadata": {},
     "output_type": "display_data"
    },
    {
     "name": "stdout",
     "output_type": "stream",
     "text": [
      "Exported Shikarpur_water_occurrence\n",
      "Exported Sylhet_water_occurrence\n",
      "Exported Ernakulam_water_occurrence\n",
      "Exported Nhamatanda_water_occurrence\n"
     ]
    }
   ],
   "source": [
    "\n",
    "# Function to compute the boundary of a feature collection.\n",
    "def boundary(feature):\n",
    "    '''\n",
    "    This function takes a feature and returns the boundary of the feature.\n",
    "    \n",
    "    Args:\n",
    "    feature: ee.FeatureCollection\n",
    "    returns:\n",
    "    boundary: ee.Geometry\n",
    "    '''\n",
    "    bbox = feature.geometry().bounds()\n",
    "    boundary = ee.Geometry.Polygon(bbox.coordinates().get(0))\n",
    "    return boundary\n",
    "\n",
    "# Define the water occurrence dataset.\n",
    "dataset = ee.Image('JRC/GSW1_4/GlobalSurfaceWater')\n",
    "\n",
    "# List of cities and their corresponding feature collections.\n",
    "cities = {\n",
    "    'Shikarpur': ee.FeatureCollection('projects/earthengine-legacy/assets/projects/sat-io/open-datasets/geoboundaries/CGAZ_ADM2')\n",
    "                  .filter(ee.Filter.eq('shapeName', 'Shikarpur')),\n",
    "    'Sylhet': ee.FeatureCollection(\"projects/sat-io/open-datasets/geoboundaries/CGAZ_ADM2\")\n",
    "              .filter(ee.Filter.eq('shapeName', 'Sylhet')),\n",
    "    'Ernakulam': ee.FeatureCollection('projects/earthengine-legacy/assets/projects/sat-io/open-datasets/geoboundaries/CGAZ_ADM2')\n",
    "                 .filter(ee.Filter.eq('shapeName', 'Ernakulam')),\n",
    "    'Nhamatanda': ee.FeatureCollection('projects/earthengine-legacy/assets/projects/sat-io/open-datasets/geoboundaries/CGAZ_ADM2')\n",
    "                  .filter(ee.Filter.eq('shapeName', 'Nhamatanda'))\n",
    "}\n",
    "\n",
    "# Function to export the clipped layer for a given city.\n",
    "def export_city_water_occurrence(city_name, city_shp):\n",
    "    aoi = boundary(city_shp)\n",
    "    clipped_layer = dataset.clip(aoi)\n",
    "    output_path = f'{city_name}_water_occurrence'\n",
    "    geemap.ee_export_image_to_drive(image=clipped_layer.toUint8(), description=output_path, folder='FMSE', scale=30, region=aoi)\n",
    "    print(f'Exported {output_path}')\n",
    "\n",
    "# Iterate over the cities and export the layers.\n",
    "for city_name, city_shp in cities.items():\n",
    "    export_city_water_occurrence(city_name, city_shp)"
   ]
  }
 ],
 "metadata": {
  "kernelspec": {
   "display_name": "gee",
   "language": "python",
   "name": "python3"
  },
  "language_info": {
   "codemirror_mode": {
    "name": "ipython",
    "version": 3
   },
   "file_extension": ".py",
   "mimetype": "text/x-python",
   "name": "python",
   "nbconvert_exporter": "python",
   "pygments_lexer": "ipython3",
   "version": "3.10.13"
  }
 },
 "nbformat": 4,
 "nbformat_minor": 2
}
