{
 "cells": [
  {
   "cell_type": "code",
   "execution_count": 1,
   "metadata": {},
   "outputs": [],
   "source": [
    "import geopandas as gpd\n",
    "import rasterio\n",
    "from rasterio.features import geometry_mask\n",
    "from sklearn.model_selection import train_test_split\n",
    "import numpy as np\n",
    "import pandas as pd\n",
    "import random\n",
    "\n",
    "from shapely.geometry import Point\n"
   ]
  },
  {
   "cell_type": "code",
   "execution_count": 3,
   "metadata": {},
   "outputs": [],
   "source": [
    "\n",
    "def create_stratified_samples(raster_path, aoi_path, out_path, num_samples=100):\n",
    "    # Load the AOI shapefile\n",
    "    aoi = gpd.read_file(aoi_path)\n",
    "    \n",
    "    # Open the flood binary raster\n",
    "    with rasterio.open(raster_path) as src:\n",
    "        flood_data = src.read(1)\n",
    "        transform = src.transform\n",
    "    \n",
    "    # Mask the raster with AOI\n",
    "    mask = geometry_mask([aoi.geometry.unary_union], transform=transform, invert=True, out_shape=flood_data.shape)\n",
    "    masked_flood_data = flood_data[mask]\n",
    "    \n",
    "    # Extract coordinates of masked data\n",
    "    indices = np.column_stack(np.where(mask))\n",
    "    coordinates = [Point(rasterio.transform.xy(transform, i, j)) for i, j in indices]\n",
    "    flood_values = masked_flood_data[mask]\n",
    "    \n",
    "    # Create DataFrame of points and flood values\n",
    "    df = pd.DataFrame({\n",
    "        'geometry': coordinates,\n",
    "        'flood_value': flood_values\n",
    "    })\n",
    "    \n",
    "    # Convert DataFrame to GeoDataFrame\n",
    "    gdf = gpd.GeoDataFrame(df, geometry='geometry')\n",
    "    \n",
    "    # Stratified sampling\n",
    "    samples_per_class = num_samples // 2  # Assuming equal samples for both classes\n",
    "    flooded_samples = gdf[gdf['flood_value'] == 1].sample(n=samples_per_class, random_state=42)\n",
    "    non_flooded_samples = gdf[gdf['flood_value'] == 0].sample(n=samples_per_class, random_state=42)\n",
    "    \n",
    "    # Combine samples\n",
    "    samples_gdf = pd.concat([flooded_samples, non_flooded_samples])\n",
    "    \n",
    "    # Save to shapefile\n",
    "    samples_gdf.to_file(f'{out_path}/{name}_samples.shp')\n",
    "    print(samples_gdf.head())\n",
    "    print(\"Stratified sample points saved to stratified_samples.shp\")\n"
   ]
  },
  {
   "cell_type": "code",
   "execution_count": 4,
   "metadata": {},
   "outputs": [],
   "source": [
    "\n",
    "# Paths to the raster and AOI shapefile\n",
    "raster_path = \"e:/FMSE_local/data/rasters/Shikarpur_flood_mapped_layer.tif\"\n",
    "aoi_path = \"e:/FMSE_local/data/shp/Shikarpur.shp\"\n",
    "out_path = 'e:/FMSE_local/data/shp/sample_points/'\n",
    "# Create stratified samples\n",
    "name = \"Shikarpur\"\n",
    "create_stratified_samples(raster_path, aoi_path, out_path)\n"
   ]
  }
 ],
 "metadata": {
  "kernelspec": {
   "display_name": "geo",
   "language": "python",
   "name": "python3"
  },
  "language_info": {
   "codemirror_mode": {
    "name": "ipython",
    "version": 3
   },
   "file_extension": ".py",
   "mimetype": "text/x-python",
   "name": "python",
   "nbconvert_exporter": "python",
   "pygments_lexer": "ipython3",
   "version": "3.11.4"
  }
 },
 "nbformat": 4,
 "nbformat_minor": 2
}
