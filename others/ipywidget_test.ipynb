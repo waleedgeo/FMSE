{
 "cells": [
  {
   "cell_type": "code",
   "execution_count": 7,
   "metadata": {},
   "outputs": [],
   "source": [
    "import ipywidgets as widgets\n",
    "from IPython.display import display\n",
    "\n"
   ]
  },
  {
   "cell_type": "code",
   "execution_count": 2,
   "metadata": {},
   "outputs": [],
   "source": [
    "#common widgets layout\n",
    "\n",
    "label_layout = widgets.Layout(display=\"flex\", justify_content=\"flex-end\", width=\"90%\")\n",
    "\n",
    "box_layout = widgets.Layout(display='flex',\n",
    "                flex_flow='column',\n",
    "                align_items='center')\n",
    "\n",
    "sidebar_layout = widgets.Layout(width='98%')\n",
    "\n",
    "desc_width = {'description_width': '120px'}"
   ]
  },
  {
   "cell_type": "code",
   "execution_count": 3,
   "metadata": {},
   "outputs": [],
   "source": [
    "satellite_list = [\n",
    "    'Landsat 7 SR',\n",
    "\n",
    "    'Landsat 8 SR',\n",
    "    'Landsat 9 SR',\n",
    "\n",
    "    'Landsat 7 TOA',\n",
    "\n",
    "    'Landsat 8 TOA',\n",
    "    'Landsat 9 TOA',\n",
    "    'Sentinel-2 SR',\n",
    "    'Sentinel-2 TOA']\n",
    "\n",
    "collections_list = [\n",
    "    'LANDSAT/LE07/C02/T1_L2',\n",
    "\n",
    "    'LANDSAT/LC08/C02/T1_L2',\n",
    "    'LANDSAT/LC09/C02/T1_L2',\n",
    "\n",
    "    'LANDSAT/LE07/C02/T1_TOA',\n",
    "    'LANDSAT/LC08/C02/T1_TOA',\n",
    "    'LANDSAT/LC09/C02/T1_TOA',\n",
    "    'COPERNICUS/S2_SR_HARMONIZED',\n",
    "    'COPERNICUS/S2_HARMONIZED']\n",
    "\n",
    "bands_list = [\n",
    "    ['SR_B'+str(i) for i in range(1,6)] + ['SR_B7', 'ST_B6'],\n",
    "    ['SR_B'+str(i) for i in range(1,8)] + ['ST_B10'],\n",
    "    ['SR_B'+str(i) for i in range(1,8)] + ['ST_B10'],\n",
    "\n",
    "    ['B'+str(i) for i in range(1,6)] + ['B7', 'B8'],\n",
    "    ['B'+str(i) for i in range(1,12)],\n",
    "    ['B'+str(i) for i in range(1,12)],\n",
    "    ['B'+str(i) for i in range(1,10)] + ['B8A', 'B11', 'B12'],\n",
    "    ['B'+str(i) for i in range(1,13)] + ['B8A'],\n",
    "]\n",
    "\n",
    "w_satellite = widgets.Dropdown(\n",
    "    options=satellite_list,\n",
    "    value='Landsat 9 SR',\n",
    "    description='Satellite',\n",
    "    disabled=False,\n",
    "    style=desc_width,\n",
    "    layout=sidebar_layout\n",
    ")\n",
    "\n",
    "ind = satellite_list.index(w_satellite.value)\n",
    "\n",
    "w_select_bands = widgets.SelectMultiple(\n",
    "    options=bands_list[ind],\n",
    "    value=bands_list[ind][1:6],\n",
    "    rows=6,\n",
    "    description='Bands',\n",
    "    style=desc_width,\n",
    "    layout=sidebar_layout,\n",
    "    disabled=False\n",
    ")\n",
    "\n",
    "def satellite_handler(change):\n",
    "  ind = satellite_list.index(change.new)\n",
    "  #print(change.new, ', bands[{}]'.format(ind), bands_list[ind])\n",
    "  w_select_bands.options = bands_list[ind]\n",
    "  w_select_bands.value = bands_list[ind][1:6]\n",
    "\n",
    "w_satellite.observe(satellite_handler, names='value')\n",
    "\n",
    "#display(w_satellite, w_select_bands)\n"
   ]
  },
  {
   "cell_type": "code",
   "execution_count": 5,
   "metadata": {},
   "outputs": [
    {
     "data": {
      "application/vnd.jupyter.widget-view+json": {
       "model_id": "69477c9ea07547ec986a4944676e3a6b",
       "version_major": 2,
       "version_minor": 0
      },
      "text/plain": [
       "Dropdown(description='Satellite', index=2, layout=Layout(width='98%'), options=('Landsat 7 SR', 'Landsat 8 SR'…"
      ]
     },
     "metadata": {},
     "output_type": "display_data"
    },
    {
     "data": {
      "application/vnd.jupyter.widget-view+json": {
       "model_id": "9aee31d66a24487fb4adeb9e430ea8cf",
       "version_major": 2,
       "version_minor": 0
      },
      "text/plain": [
       "SelectMultiple(description='Bands', index=(1, 2, 3, 4, 5), layout=Layout(width='98%'), options=('SR_B1', 'SR_B…"
      ]
     },
     "metadata": {},
     "output_type": "display_data"
    }
   ],
   "source": [
    "display(w_satellite, w_select_bands)"
   ]
  },
  {
   "cell_type": "markdown",
   "metadata": {},
   "source": [
    "### Region of interest\n",
    "\n",
    "There are several ways you can create a region for generating the training dataset.\n",
    "\n",
    "- Draw a shape (e.g., rectangle) on the map and then use `region = Map.user_roi`\n",
    "- Define a geometry, such as `region = ee.Geometry.Rectangle([-122.6003, 37.4831, -121.8036, 37.8288])`\n",
    "- Create a buffer zone around a point, such as `region = ee.Geometry.Point([-122.4439, 37.7538]).buffer(10000)`\n",
    "- If you don't define a region, it will use the image footprint by default\n",
    "\n",
    "```\n",
    "image = (\n",
    "  ee.ImageCollection(collection)\n",
    "    .filterBounds(region)\n",
    "    .filterDate(start_date, end_date)\n",
    "    .map(maskL8sr)\n",
    "    .median()\n",
    "    .select(bands)\n",
    "    .clip(region)\n",
    ")\n",
    "```"
   ]
  },
  {
   "cell_type": "code",
   "execution_count": 8,
   "metadata": {},
   "outputs": [],
   "source": [
    "region_options = [\n",
    "    'Select an option', # if unselected, default to map bounds\n",
    "    'Draw shapes on map', # rectangle, polygon. If a point, use next option\n",
    "    'Input point and buffer', # input point coordinates and buffer distance\n",
    "    'Rectangle from BBox', # input bounding box coordinates\n",
    "    'Upload GeoJSON', # upload geometry in .GeoJSON\n",
    "    ]\n",
    "\n",
    "w_region = widgets.Dropdown(\n",
    "    options=region_options,\n",
    "    value='Select an option',\n",
    "    description='Region',\n",
    "    disabled=False,\n",
    "    style=desc_width,\n",
    "    layout=sidebar_layout\n",
    ")\n",
    "\n",
    "w_region_detail = widgets.VBox()\n",
    "\n",
    "def regions_handler(change):\n",
    "  if change.new == 'Draw shapes on map':\n",
    "    w_region_detail.children = [widgets.Label(value=\"Please draw geometry on the map.\",\n",
    "                                              layout=label_layout)]\n",
    "\n",
    "  elif change.new == 'Input point and buffer':\n",
    "    w_point = widgets.Text(description='Lon, Lat',\n",
    "                           style=desc_width,\n",
    "                           layout=sidebar_layout)\n",
    "    w_buffer = widgets.FloatText(description='Buffer (km)',\n",
    "                                 style=desc_width,\n",
    "                                 layout=sidebar_layout)\n",
    "    w_region_detail.children = [w_point, w_buffer]\n",
    "\n",
    "  elif change.new == 'Rectangle from BBox':\n",
    "    w_points = widgets.Text(description='BBox (W, S, E, N)',\n",
    "                            style=desc_width,\n",
    "                            layout=sidebar_layout)\n",
    "    w_region_detail.children = [w_points]\n",
    "\n",
    "  elif change.new == 'Upload GeoJSON':\n",
    "    w_btn_region = widgets.Button(description='Upload GeoJSON',\n",
    "                            button_style='danger',\n",
    "                            tooltip=\"Upload GeoJSON\",\n",
    "                            #style={'font_size': '3px', 'font_weight': 'bold'}\n",
    "                            )\n",
    "\n",
    "    w_btn_region_output = widgets.Output()\n",
    "    def btn_region_handler(obj):\n",
    "        w_btn_region_output.clear_output()\n",
    "        with w_btn_region_output:\n",
    "          uploaded = files.upload()\n",
    "          for fn in uploaded.keys():\n",
    "            global region_json\n",
    "            region_json = fn\n",
    "            #print(region_json)\n",
    "\n",
    "    w_btn_region.on_click(btn_region_handler)\n",
    "    w_region_detail.children = [w_btn_region, w_btn_region_output]\n",
    "    #w_region_detail.layout = box_layout\n",
    "\n",
    "  else:\n",
    "    w_region_detail.children = [widgets.Label(\n",
    "        value=\"Default to current map boundary.\",\n",
    "        layout=label_layout)]\n",
    "\n",
    "w_region.observe(regions_handler, names='value')\n",
    "w_regions = widgets.VBox([w_region, w_region_detail])\n",
    "#display(w_regions)"
   ]
  },
  {
   "cell_type": "code",
   "execution_count": 9,
   "metadata": {},
   "outputs": [
    {
     "data": {
      "application/vnd.jupyter.widget-view+json": {
       "model_id": "f0e63c4c38214b49b0b9ccbb6733699b",
       "version_major": 2,
       "version_minor": 0
      },
      "text/plain": [
       "VBox(children=(Dropdown(description='Region', layout=Layout(width='98%'), options=('Select an option', 'Draw s…"
      ]
     },
     "metadata": {},
     "output_type": "display_data"
    }
   ],
   "source": [
    "display(w_regions)"
   ]
  },
  {
   "cell_type": "markdown",
   "metadata": {},
   "source": [
    "### DatePicker & temporal interval"
   ]
  },
  {
   "cell_type": "code",
   "execution_count": 10,
   "metadata": {},
   "outputs": [],
   "source": [
    "# could use string as well\n",
    "w_start_date = widgets.DatePicker(\n",
    "    description='Start date',\n",
    "    disabled=False,\n",
    "    style=desc_width,\n",
    "    layout=sidebar_layout\n",
    ")\n",
    "\n",
    "w_end_date = widgets.DatePicker(\n",
    "    description='End date',\n",
    "    disabled=False,\n",
    "    style=desc_width,\n",
    "    layout=sidebar_layout\n",
    ")\n",
    "\n",
    "w_separate_doy = widgets.Checkbox(description='Separate doy from year',\n",
    "                                  value=False,\n",
    "                                  style=desc_width,\n",
    "                                  layout=sidebar_layout)\n",
    "\n",
    "w_temporal = widgets.Checkbox(description='Temporal composite',\n",
    "                              value=False,\n",
    "                              style=desc_width,\n",
    "                              layout=sidebar_layout)\n",
    "\n",
    "temporal_options = [\n",
    "    'All dates', # just median temporal composite of all scenes\n",
    "    'Yearly', # temporal composite for each year of all scenes\n",
    "    'Monthly', # temporal composite for each month of all scenes\n",
    "    'Daily', # temporal composite for each day of all scenes\n",
    "]\n",
    "\n",
    "w_temporal = widgets.Dropdown(\n",
    "    options=temporal_options,\n",
    "    value='All dates',\n",
    "    description='Composite interval',\n",
    "    disabled=False,\n",
    "    style=desc_width,\n",
    "    layout=sidebar_layout\n",
    ")\n",
    "\n",
    "w_temporal_detail = widgets.VBox()\n",
    "\n",
    "def temporal_handler(change):\n",
    "  if change.new == 'All dates':\n",
    "    w_temporal_detail.children = [widgets.Label(value=\"Median composite for the entire interval\",\n",
    "                                                layout=label_layout)]\n",
    "  elif change.new == 'Yearly':\n",
    "    w_temporal_detail.children = [widgets.Label(value=\"Yearly median composite\",\n",
    "                                                layout=label_layout)]\n",
    "  elif change.new == 'Monthly':\n",
    "    w_temporal_detail.children = [widgets.Label(value=\"Monthly median composite\",\n",
    "                                                layout=label_layout)]\n",
    "  elif change.new == 'Daily':\n",
    "    w_temporal_detail.children = [widgets.Label(value=\"Daily mosaic\",\n",
    "                                                layout=label_layout)]\n",
    "\n",
    "w_temporal.observe(temporal_handler, names='value')\n",
    "\n",
    "w_dates = widgets.VBox([\n",
    "    w_start_date,\n",
    "    w_end_date,\n",
    "    #w_separate_doy,\n",
    "    w_temporal,\n",
    "    w_temporal_detail\n",
    "])\n"
   ]
  },
  {
   "cell_type": "code",
   "execution_count": 11,
   "metadata": {},
   "outputs": [
    {
     "data": {
      "application/vnd.jupyter.widget-view+json": {
       "model_id": "8a2ebb3301ed4ded834441b9b8ae6726",
       "version_major": 2,
       "version_minor": 0
      },
      "text/plain": [
       "VBox(children=(DatePicker(value=None, description='Start date', layout=Layout(width='98%'), step=1, style=Desc…"
      ]
     },
     "metadata": {},
     "output_type": "display_data"
    }
   ],
   "source": [
    "display(w_dates)"
   ]
  },
  {
   "cell_type": "code",
   "execution_count": 12,
   "metadata": {},
   "outputs": [
    {
     "data": {
      "text/html": [
       "<p>To authorize access needed by Earth Engine, open the following\n",
       "        URL in a web browser and follow the instructions:</p>\n",
       "        <p><a href=https://code.earthengine.google.com/client-auth?scopes=https%3A//www.googleapis.com/auth/earthengine%20https%3A//www.googleapis.com/auth/cloud-platform%20https%3A//www.googleapis.com/auth/devstorage.full_control&request_id=8aeErIkr4dzwB17VdYG8scRJdzLu2AeCkfhKsksWhGw&tc=jNx2HTaoCzyX3ZLQ6-xJ5sMvAFcTL9oES8SepIHL5GE&cc=O9M97oiXGrXuhB8l0-IaFj27Oal-496-wlTsSUiD9nU>https://code.earthengine.google.com/client-auth?scopes=https%3A//www.googleapis.com/auth/earthengine%20https%3A//www.googleapis.com/auth/cloud-platform%20https%3A//www.googleapis.com/auth/devstorage.full_control&request_id=8aeErIkr4dzwB17VdYG8scRJdzLu2AeCkfhKsksWhGw&tc=jNx2HTaoCzyX3ZLQ6-xJ5sMvAFcTL9oES8SepIHL5GE&cc=O9M97oiXGrXuhB8l0-IaFj27Oal-496-wlTsSUiD9nU</a></p>\n",
       "        <p>The authorization workflow will generate a code, which you should paste in the box below.</p>\n",
       "        "
      ],
      "text/plain": [
       "<IPython.core.display.HTML object>"
      ]
     },
     "metadata": {},
     "output_type": "display_data"
    },
    {
     "name": "stdout",
     "output_type": "stream",
     "text": [
      "\n",
      "Successfully saved authorization token.\n"
     ]
    }
   ],
   "source": [
    "import geemap\n",
    "Map = geemap.Map()"
   ]
  },
  {
   "cell_type": "code",
   "execution_count": 13,
   "metadata": {},
   "outputs": [
    {
     "data": {
      "text/html": [
       "\n",
       "            <style>\n",
       "                .geemap-dark {\n",
       "                    --jp-widgets-color: white;\n",
       "                    --jp-widgets-label-color: white;\n",
       "                    --jp-ui-font-color1: white;\n",
       "                    --jp-layout-color2: #454545;\n",
       "                    background-color: #383838;\n",
       "                }\n",
       "\n",
       "                .geemap-dark .jupyter-button {\n",
       "                    --jp-layout-color3: #383838;\n",
       "                }\n",
       "\n",
       "                .geemap-colab {\n",
       "                    background-color: var(--colab-primary-surface-color, white);\n",
       "                }\n",
       "\n",
       "                .geemap-colab .jupyter-button {\n",
       "                    --jp-layout-color3: var(--colab-primary-surface-color, white);\n",
       "                }\n",
       "            </style>\n",
       "            "
      ],
      "text/plain": [
       "<IPython.core.display.HTML object>"
      ]
     },
     "metadata": {},
     "output_type": "display_data"
    }
   ],
   "source": []
  },
  {
   "cell_type": "code",
   "execution_count": 14,
   "metadata": {},
   "outputs": [
    {
     "data": {
      "text/html": [
       "\n",
       "            <style>\n",
       "                .geemap-dark {\n",
       "                    --jp-widgets-color: white;\n",
       "                    --jp-widgets-label-color: white;\n",
       "                    --jp-ui-font-color1: white;\n",
       "                    --jp-layout-color2: #454545;\n",
       "                    background-color: #383838;\n",
       "                }\n",
       "\n",
       "                .geemap-dark .jupyter-button {\n",
       "                    --jp-layout-color3: #383838;\n",
       "                }\n",
       "\n",
       "                .geemap-colab {\n",
       "                    background-color: var(--colab-primary-surface-color, white);\n",
       "                }\n",
       "\n",
       "                .geemap-colab .jupyter-button {\n",
       "                    --jp-layout-color3: var(--colab-primary-surface-color, white);\n",
       "                }\n",
       "            </style>\n",
       "            "
      ],
      "text/plain": [
       "<IPython.core.display.HTML object>"
      ]
     },
     "metadata": {},
     "output_type": "display_data"
    },
    {
     "data": {
      "application/vnd.jupyter.widget-view+json": {
       "model_id": "119ee8aeefdb4a93a0b25184af40b223",
       "version_major": 2,
       "version_minor": 0
      },
      "text/plain": [
       "VBox(children=(HTML(value=\"<h1 style='text-align: center'>An Explainable ML Land Cover Mapping with GEE</h1>\")…"
      ]
     },
     "metadata": {},
     "output_type": "display_data"
    }
   ],
   "source": [
    "w_btn_workflow_log = widgets.Output(layout={'border': '2px solid blue',\n",
    "                                            'height': '200px',\n",
    "                                            'overflow': 'auto'})\n",
    "\n",
    "def runApp():\n",
    "  \"\"\"\n",
    "  Main app function\n",
    "  \"\"\"\n",
    "\n",
    "  header = widgets.HTML(\"<h1 style='text-align: center'>An Explainable ML Land Cover Mapping with GEE</h1>\")\n",
    "\n",
    "  left_sidebar=widgets.VBox([\n",
    "        w_regions,\n",
    "        w_dates,\n",
    "        w_satellite,\n",
    "        w_select_bands\n",
    "        #w_btn_features,\n",
    "        ], layout=widgets.Layout(width='28%')\n",
    "  )\n",
    "\n",
    "  app = widgets.VBox([\n",
    "      header,\n",
    "      widgets.HBox([left_sidebar,\n",
    "                    widgets.VBox([Map, w_btn_workflow_log],\n",
    "                                 layout=widgets.Layout(width='72%'))\n",
    "                  ]),\n",
    "\n",
    "      #bottom_tab,\n",
    "  ])\n",
    "\n",
    "  display(app)\n",
    "\n",
    "runApp()"
   ]
  }
 ],
 "metadata": {
  "kernelspec": {
   "display_name": "gee",
   "language": "python",
   "name": "python3"
  },
  "language_info": {
   "codemirror_mode": {
    "name": "ipython",
    "version": 3
   },
   "file_extension": ".py",
   "mimetype": "text/x-python",
   "name": "python",
   "nbconvert_exporter": "python",
   "pygments_lexer": "ipython3",
   "version": "3.11.8"
  }
 },
 "nbformat": 4,
 "nbformat_minor": 2
}
